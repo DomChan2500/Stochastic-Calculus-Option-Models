{
 "cells": [
  {
   "cell_type": "markdown",
   "metadata": {},
   "source": [
    "## Black (1976) Model\n",
    "### For pricing European Forwards/Futures"
   ]
  },
  {
   "cell_type": "code",
   "execution_count": 3,
   "metadata": {},
   "outputs": [],
   "source": [
    "import numpy as np\n",
    "from scipy.stats import norm"
   ]
  },
  {
   "cell_type": "code",
   "execution_count": 2,
   "metadata": {},
   "outputs": [],
   "source": [
    "def black76 (F: float,\n",
    "            K: float, \n",
    "            T: float, \n",
    "            r: float,\n",
    "            sigma: float,\n",
    "            X: float = 0,\n",
    "            option_type: str = \"call\",\n",
    "            cash_or_nothing: bool = False,\n",
    "            asset_or_nothing: bool = False\n",
    "            ) -> float : \n",
    "    \"\"\"\n",
    "    F: Forward spot price\n",
    "    K: Strike price\n",
    "    T: Time to maturity (years)\n",
    "    r: Risk-free rate (annual)\n",
    "    sigma: Volatility (%)\n",
    "    X: Cash or asset value in case of cash-or-nothing or asset-or-nothing option\n",
    "    \"\"\"\n",
    "    d1 = (\n",
    "            (np.log(F/K) + (sigma**2)/2*T)\n",
    "            / \n",
    "            (sigma*np.sqrt(T))\n",
    "    )\n",
    "    d2 = d1 - sigma*np.sqrt(T)\n",
    "\n",
    "    if cash_or_nothing or asset_or_nothing:\n",
    "        if option_type == \"call\":\n",
    "            return X * np.exp(-r*T) * norm.cdf(d2)\n",
    "        elif option_type == \"put\":\n",
    "            return X * np.exp(-r*T) * norm.cdf(-d2)\n",
    "        else:\n",
    "            raise ValueError(\"Invalid option type. Please use 'call' or 'put'.\")\n",
    "\n",
    "    else:\n",
    "        if option_type == \"call\":\n",
    "           return np.exp(-r*T) * (F*norm.cdf(d1) - K*norm.cdf(d2))\n",
    "        elif option_type == \"put\":\n",
    "            return np.exp(-r*T) * (K*norm.cdf(-d2) - F*norm.cdf(-d1))\n",
    "        else:\n",
    "            raise ValueError(\"Invalid option type. Please use 'call' or 'put'.\")"
   ]
  }
 ],
 "metadata": {
  "kernelspec": {
   "display_name": "base",
   "language": "python",
   "name": "python3"
  },
  "language_info": {
   "codemirror_mode": {
    "name": "ipython",
    "version": 3
   },
   "file_extension": ".py",
   "mimetype": "text/x-python",
   "name": "python",
   "nbconvert_exporter": "python",
   "pygments_lexer": "ipython3",
   "version": "3.9.16"
  }
 },
 "nbformat": 4,
 "nbformat_minor": 2
}
