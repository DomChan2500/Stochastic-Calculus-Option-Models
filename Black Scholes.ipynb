import numpy as np
import pandas as pd
from scipy.stats import norm
import matplotlib.pyplot as plt
import seaborn as sns
import math
import os

# Black Scholes Model.Anyway of defining the model for graph.
# Define the following parameters.
# S: spot stock price ($)
# K: strike price ($)
# sigma: volatility (%)
# r: risk-free rate (% per year)
# q: dividend yield (% per year) - to be removed
# T: time to maturity (year) - to be changed
# F: Future contract price ($)
# Q: Cash payoff for cash-or-nothing payoff for cash-or-nothing ($)

def blackscholes(sigma, Q, S, K, r, T, type="call"):
        dBS1 = (np.log(S/K) + T*(r + 0.5*sigma**2))/(sigma*(np.sqrt(T)))
        dBS2 = dBS1 - sigma*np.sqrt(T)
        
        if type =="call":
            option_price = S*norm.cdf(dBS1, 0,1) - K*(np.exp(-r*T))*norm.cdf(dBS2, 0, 1)
        elif type =="put":
            option_price = K*(np.exp(-r*T))*norm.cdf(-dBS2, 0,1) - S*norm.cdf(-dBS1,0,1)
        elif type =="CON_call":
            option_price = Q*(np.exp(-r*(T)))*norm.cdf(dBS2)
        elif type =="CON_put":
            option_price = Q*(np.exp(-r*(T)))*norm.cdf(-dBS2)
        elif type == "AON_call":
            option_price = S*norm.cdf(dBS1)
        elif type == "AON_put":
            option_price = S*norm.cdf(-dBS1)
        else:
            raise ValueError("Invalid option type.")
        return option_price
