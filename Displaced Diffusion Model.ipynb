{
 "cells": [
  {
   "cell_type": "code",
   "execution_count": 1,
   "metadata": {},
   "outputs": [],
   "source": [
    "import numpy as np\n",
    "from scipy.stats import norm"
   ]
  },
  {
   "cell_type": "code",
   "execution_count": 5,
   "metadata": {},
   "outputs": [],
   "source": [
    "def displaced_diffusion_option(S: float,\n",
    "                            K: float, \n",
    "                            T: float, \n",
    "                            r: float,\n",
    "                            risky_sigma: float, \n",
    "                            alpha: float, \n",
    "                            beta: float,\n",
    "                            delta: list,\n",
    "                            d: float,\n",
    "                            option_type: str,\n",
    "                            call: bool) -> float:\n",
    "    \"\"\"\n",
    "    Calculate the price of call/put option using displaced diffusion model\n",
    "\n",
    "    Parameters:\n",
    "    S: float : current stock price\n",
    "    K: float : strike price\n",
    "    T: float : time to maturity\n",
    "    r: float : risk-free rate\n",
    "    risky_sigma: float : volatility of the risky asset\n",
    "    alpha: float : proportion of firm's value in the risky asset\n",
    "    beta: float : debt-equity ratio\n",
    "    delta: list: dividend fraction from risky asset\n",
    "    d: list: fixed dividend from riskless asset\n",
    "    option_type: str : \"vanilla\", \"digital_asset_or_nothing\", \"digital_cash_or_nothing\"\n",
    "    call: bool : True for call option, False for put option\n",
    "    \n",
    "    Returns:\n",
    "    float : option price\n",
    "    \"\"\"\n",
    "\n",
    "    dividend_adjustment = np.prod([1- d_k for d_k in delta])\n",
    "\n",
    "    a = alpha * (1+beta) * dividend_adjustment\n",
    "    b = (1-alpha-alpha*beta) * r**T - sum([d_k * r**(T-k) for k, d_k in enumerate(d,1)])\n",
    "\n",
    "    x_numerator = np.log((a*S)/((K-b*S)*r**(-T)))\n",
    "    x_denominator = risky_sigma * np.sqrt(T)\n",
    "    x = x_numerator / x_denominator + 0.5*risky_sigma**2*T\n",
    "\n",
    "    if option_type == \"vanilla\":\n",
    "        if call:\n",
    "            return a*S*norm.cdf(x) - (K-b*S)*r**(-T)*norm.cdf(x - risky_sigma*np.sqrt(T))\n",
    "        else:\n",
    "            return (K-b*S)*r**(-T)*norm.cdf(-x + risky_sigma*np.sqrt(T)) - a*S*norm.cdf(-x)\n",
    "    \n",
    "    if option_type == \"digital_asset_or_nothing\":\n",
    "        if call:\n",
    "            return S*np.exp(-r*T)*norm.cdf(x)\n",
    "        else:\n",
    "            return S*np.exp(-r*T)*norm.cdf(-x)\n",
    "        \n",
    "    if option_type == \"digital_cash_or_nothing\":\n",
    "        if call:\n",
    "            return np.exp(-r*T)*norm.cdf(x)\n",
    "        else:\n",
    "            return np.exp(-r*T)*norm.cdf(-x)"
   ]
  },
  {
   "cell_type": "code",
   "execution_count": 15,
   "metadata": {},
   "outputs": [
    {
     "data": {
      "text/plain": [
       "10.121852156844067"
      ]
     },
     "execution_count": 15,
     "metadata": {},
     "output_type": "execute_result"
    }
   ],
   "source": [
    "beta = 0\n",
    "S = 40\n",
    "delta = d = [0]\n",
    "r = 1.05\n",
    "\n",
    "alpha = 0.75\n",
    "risky_sigma = 0.4\n",
    "K = 30\n",
    "T = 1/12\n",
    "\n",
    "displaced_diffusion_option(S, K, T, r, risky_sigma, alpha, beta, delta, d, \"vanilla\", True)"
   ]
  },
  {
   "cell_type": "code",
   "execution_count": null,
   "metadata": {},
   "outputs": [],
   "source": []
  }
 ],
 "metadata": {
  "kernelspec": {
   "display_name": "base",
   "language": "python",
   "name": "python3"
  },
  "language_info": {
   "codemirror_mode": {
    "name": "ipython",
    "version": 3
   },
   "file_extension": ".py",
   "mimetype": "text/x-python",
   "name": "python",
   "nbconvert_exporter": "python",
   "pygments_lexer": "ipython3",
   "version": "3.11.7"
  }
 },
 "nbformat": 4,
 "nbformat_minor": 2
}
